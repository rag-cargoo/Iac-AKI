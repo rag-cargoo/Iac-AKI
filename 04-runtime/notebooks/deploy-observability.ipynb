{
 "cells": [
  {
   "cell_type": "code",
   "execution_count": null,
   "metadata": {
    "tags": [
     "setup"
    ]
   },
   "outputs": [],
   "source": [
    "%%bash\n",
    "set -euo pipefail\n",
    "cd \"$(dirname \"$(dirname \"$PWD\")\")\"\n",
    "source scripts/bin/setup_project_env.sh\n",
    "ssh -o StrictHostKeyChecking=accept-new bastion-host 'true'\n",
    "ssh -o StrictHostKeyChecking=accept-new swarm-manager 'hostname'\n",
    "docker info --format 'Name: {{.Name}} | Swarm: {{.Swarm.LocalNodeState}}'\n"
   ]
  },
  {
   "cell_type": "markdown",
   "id": "5b173bbb",
   "metadata": {},
   "source": [
    "# Deploy Monitoring (Prometheus/Grafana) and Logging (Loki/Promtail)"
   ]
  },
  {
   "cell_type": "markdown",
   "id": "a8d81cfd",
   "metadata": {},
   "source": [
    "### 사전 준비\n",
    "1. `source scripts/bin/setup_project_env.sh`\n",
    "2. `export DOCKER_HOST=\"ssh://swarm-manager\"`\n",
    "3. 필요 시 포트 포워딩: `ssh -N -L 9090:localhost:9090 -L 3000:localhost:3000 -L 3100:localhost:3100 swarm-manager`"
   ]
  },
  {
   "cell_type": "markdown",
   "id": "5e879dad",
   "metadata": {},
   "source": [
    "### 1. 네트워크 생성"
   ]
  },
  {
   "cell_type": "code",
   "execution_count": null,
   "id": "6868dd49",
   "metadata": {
    "tags": [
     "bash"
    ]
   },
   "outputs": [],
   "source": [
    "%%bash\n",
    "export DOCKER_HOST=\"ssh://swarm-manager\"\n",
    "docker network create --driver overlay monitoring_net 2>/dev/null || true\n",
    "docker network create --driver overlay logging_net 2>/dev/null || true"
   ]
  },
  {
   "cell_type": "markdown",
   "id": "d736c842",
   "metadata": {},
   "source": [
    "### 2. 모니터링 스택 배포 (Prometheus + Grafana)"
   ]
  },
  {
   "cell_type": "code",
   "execution_count": null,
   "id": "95f3449c",
   "metadata": {
    "tags": [
     "bash"
    ]
   },
   "outputs": [],
   "source": [
    "%%bash\n",
    "set -euo pipefail\n",
    "cd \"$(dirname \"$(dirname \"$PWD\")\")\"\n",
    "source scripts/bin/setup_project_env.sh\n",
    "STACK_FILE=\"02-operations/monitoring/stack.yml\"\n",
    "docker stack deploy -c \"$STACK_FILE\" monitoring\n"
   ]
  },
  {
   "cell_type": "markdown",
   "id": "5b604448",
   "metadata": {},
   "source": [
    "### 3. 로깅 스택 배포 (Loki + Promtail)"
   ]
  },
  {
   "cell_type": "code",
   "execution_count": null,
   "id": "23485ae7",
   "metadata": {
    "tags": [
     "bash"
    ]
   },
   "outputs": [],
   "source": [
    "%%bash\n",
    "export DOCKER_HOST=\"ssh://swarm-manager\"\n",
    "STACK_FILE=../02-operations/logging/stack.yml\n",
    "docker stack deploy -c ${STACK_FILE} logging\n"
   ]
  },
  {
   "cell_type": "markdown",
   "id": "64e25c9f",
   "metadata": {},
   "source": [
    "### 4. 서비스 확인"
   ]
  },
  {
   "cell_type": "code",
   "execution_count": null,
   "id": "dcc2d4c6",
   "metadata": {
    "tags": [
     "bash"
    ]
   },
   "outputs": [],
   "source": [
    "%%bash\n",
    "export DOCKER_HOST=\"ssh://swarm-manager\"\n",
    "docker service ls | grep monitoring\n",
    "docker service ls | grep logging"
   ]
  },
  {
   "cell_type": "markdown",
   "metadata": {},
   "source": [
    "### 5. 접속 정보\n",
    "- Prometheus: http://localhost:9090\n",
    "- Grafana: http://localhost:3000 (ID/PW: admin/admin)\n",
    "- Loki API: http://localhost:3100\n",
    "스택 제거: `docker stack rm monitoring`, `docker stack rm logging`"
   ]
  }
 ],
 "metadata": {
  "kernelspec": {
   "display_name": "Python 3",
   "language": "python",
   "name": "python3"
  },
  "language_info": {
   "codemirror_mode": {
    "name": "ipython",
    "version": 3
   },
   "file_extension": ".py",
   "mimetype": "text/x-python",
   "name": "python",
   "nbconvert_exporter": "python",
   "pygments_lexer": "ipython3",
   "version": "3.10.12"
  }
 },
 "nbformat": 4,
 "nbformat_minor": 5
}