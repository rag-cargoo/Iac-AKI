{
 "cells": [
  {
   "cell_type": "code",
   "execution_count": null,
   "id": "41ca3ee5",
   "metadata": {
    "tags": [
     "setup"
    ]
   },
   "outputs": [],
   "source": [
    "%%bash\n",
    "set -euo pipefail\n",
    "cd \"$(dirname \"$(dirname \"$PWD\")\")\"\n",
    "source scripts/bin/setup_project_env.sh\n",
    "ssh -o StrictHostKeyChecking=accept-new bastion-host 'true'\n",
    "ssh -o StrictHostKeyChecking=accept-new swarm-manager 'hostname'\n",
    "docker info --format 'Name: {{.Name}} | Swarm: {{.Swarm.LocalNodeState}}'\n"
   ]
  },
  {
   "cell_type": "markdown",
   "id": "5b173bbb",
   "metadata": {},
   "source": [
    "# Deploy Monitoring (Prometheus/Grafana) and Logging (Loki/Promtail)"
   ]
  },
  {
   "cell_type": "markdown",
   "id": "a8d81cfd",
   "metadata": {},
   "source": [
    "### 사전 준비\n",
    "1. `source scripts/bin/setup_project_env.sh`\n",
    "2. `export DOCKER_HOST=\"ssh://swarm-manager\"`\n",
    "3. 필요 시 포트 포워딩: `ssh -N -L 9090:localhost:9090 -L 3000:localhost:3000 -L 3100:localhost:3100 swarm-manager`"
   ]
  },
  {
   "cell_type": "markdown",
   "id": "5e879dad",
   "metadata": {},
   "source": [
    "### 1. 네트워크 생성"
   ]
  },
  {
   "cell_type": "code",
   "execution_count": null,
   "id": "6868dd49",
   "metadata": {
    "tags": [
     "bash"
    ]
   },
   "outputs": [],
   "source": [
    "%%bash\n",
    "export DOCKER_HOST=\"ssh://swarm-manager\"\n",
    "docker network create --driver overlay monitoring_net 2>/dev/null || true\n",
    "docker network create --driver overlay logging_net 2>/dev/null || true"
   ]
  },
  {
   "cell_type": "markdown",
   "id": "d736c842",
   "metadata": {},
   "source": [
    "### 2. 모니터링 스택 배포 (Prometheus + Grafana)"
   ]
  },
  {
   "cell_type": "code",
   "execution_count": 13,
   "id": "95f3449c",
   "metadata": {
    "tags": [
     "bash"
    ]
   },
   "outputs": [
    {
     "name": "stderr",
     "output_type": "stream",
     "text": [
      "+++ dirname /home/aki/STUDY/ANSIBLE/AWS-ANSIBLE-DockerSwarm/04-runtime/notebooks\n",
      "++ dirname /home/aki/STUDY/ANSIBLE/AWS-ANSIBLE-DockerSwarm/04-runtime\n",
      "+ cd /home/aki/STUDY/ANSIBLE/AWS-ANSIBLE-DockerSwarm\n",
      "+ source scripts/bin/setup_project_env.sh\n",
      "++ echo\n",
      "++ echo ━━━━━━━━━━━━━━━━━━━━━━━━━━━━━━━━━━━━━━━━━━━━\n",
      "++ echo '🔹 Step 0: Initialize'\n",
      "++ echo ━━━━━━━━━━━━━━━━━━━━━━���━━━━━━━━━━━━━━━━━━━━━\n",
      "++++ dirname -- scripts/bin/setup_project_env.sh\n"
     ]
    },
    {
     "name": "stdout",
     "output_type": "stream",
     "text": [
      "\n",
      "━━━━━━━━━━━━━━━━━━━━━━━━━━━━━━━━━━━━━━━━━━━━\n",
      "🔹 Step 0: Initialize\n",
      "━━━━━━━━━━━━━━━━━━━━━━━━━━━━━━━━━━━━━━━━━━━━\n"
     ]
    },
    {
     "name": "stderr",
     "output_type": "stream",
     "text": [
      "+++ cd -- scripts/bin\n",
      "+++ pwd\n",
      "++ SCRIPT_DIR=/home/aki/STUDY/ANSIBLE/AWS-ANSIBLE-DockerSwarm/scripts/bin\n",
      "+++ cd /home/aki/STUDY/ANSIBLE/AWS-ANSIBLE-DockerSwarm/scripts/bin/../..\n",
      "+++ pwd\n",
      "++ PROJECT_ROOT=/home/aki/STUDY/ANSIBLE/AWS-ANSIBLE-DockerSwarm\n",
      "++ TERRAFORM_ENVIRONMENT=production\n",
      "++ echo 'Setting up project environment (Terraform env: production)...'\n",
      "+++ cd /home/aki/STUDY/ANSIBLE/AWS-ANSIBLE-DockerSwarm/01-infrastructure/terraform/envs/production\n",
      "+++ pwd\n",
      "++ TERRAFORM_DIR=/home/aki/STUDY/ANSIBLE/AWS-ANSIBLE-DockerSwarm/01-infrastructure/terraform/envs/production\n",
      "++ '[' -z /home/aki/STUDY/ANSIBLE/AWS-ANSIBLE-DockerSwarm/01-infrastructure/terraform/envs/production ']'\n",
      "++ '[' '!' -d /home/aki/STUDY/ANSIBLE/AWS-ANSIBLE-DockerSwarm/01-infrastructure/terraform/envs/production ']'\n",
      "++ command -v python3\n",
      "++ echo\n",
      "++ echo ━━━━━━━━━━━━━━━━━━━━━━━━���━━━━━━━━━━━━━━━━━━━\n",
      "++ echo '🔹 Step 1: Export Terraform outputs'\n",
      "++ echo ━━━━━━━━━━━━━━━━━━━━━━━━━━━━━━━━━━━━━━━━━━━━\n",
      "+++ python3 - /home/aki/STUDY/ANSIBLE/AWS-ANSIBLE-DockerSwarm/01-infrastructure/terraform/envs/production\n"
     ]
    },
    {
     "name": "stdout",
     "output_type": "stream",
     "text": [
      "Setting up project environment (Terraform env: production)...\n",
      "\n",
      "━━━━━━━━━━━━���━━━━━━━━━━━━━━━━━━━━━━━━━━━━━━━\n",
      "🔹 Step 1: Export Terraform outputs\n",
      "━━━━━━━━━━━━━━━━━━━━━━━━━━━━━━━━━━━━━━━━━━━━\n"
     ]
    },
    {
     "name": "stderr",
     "output_type": "stream",
     "text": [
      "++ terraform_values='3.34.245.190\n",
      "~/.aws/key/test_key.pem\n",
      "10.0.101.10\n",
      "10.0.102.10 10.0.101.11'\n",
      "++ status=0\n",
      "++ '[' 0 -ne 0 ']'\n",
      "++ mapfile -t _tf_lines\n",
      "++ BASTION_PUBLIC_IP=3.34.245.190\n",
      "++ SSH_KEY_PATH='~/.aws/key/test_key.pem'\n",
      "++ MANAGER_PRIVATE_IP=10.0.101.10\n",
      "++ WORKER_PRIVATE_IPS='10.0.102.10 10.0.101.11'\n",
      "++ '[' -z 3.34.245.190 ']'\n",
      "++ '[' -z '~/.aws/key/test_key.pem' ']'\n",
      "++ '[' -z 10.0.101.10 ']'\n",
      "+++ eval echo '~/.aws/key/test_key.pem'\n",
      "++++ echo /home/aki/.aws/key/test_key.pem\n",
      "++ SSH_KEY_PATH=/home/aki/.aws/key/test_key.pem\n",
      "+++ echo '10.0.102.10 10.0.101.11'\n",
      "++ WORKER_PRIVATE_IPS='10.0.102.10 10.0.101.11'\n",
      "++ echo '✅ BASTION_PUBLIC_IP=3.34.245.190'\n",
      "++ echo '✅ SSH_KEY_PATH=/home/aki/.aws/key/test_key.pem'\n",
      "++ echo '✅ MANAGER_PRIVATE_IP=10.0.101.10'\n",
      "++ '[' -n '10.0.102.10 10.0.101.11' ']'\n",
      "++ echo '✅ WORKER_PRIVATE_IPS=10.0.102.10 10.0.101.11'\n",
      "++ export BASTION_PUBLIC_IP SSH_KEY_PATH MANAGER_PRIVATE_IP WORKER_PRIVATE_IPS\n",
      "++ echo\n",
      "++ echo ━━━��━━━━━━━━━━━━━━━━━━━━━━━━━━━━━━━━━━━━━━━━\n",
      "++ echo '🔹 Step 1.5: Cleanup old SSH host keys'\n",
      "++ echo ━━━━━━���━━━━━━━━━━━━━━━━━━━━━━━━━━━━━━━━��━━━━\n",
      "++ ssh-keygen -R 3.34.245.190\n"
     ]
    },
    {
     "name": "stdout",
     "output_type": "stream",
     "text": [
      "✅ BASTION_PUBLIC_IP=3.34.245.190\n",
      "✅ SSH_KEY_PATH=/home/aki/.aws/key/test_key.pem\n",
      "✅ MANAGER_PRIVATE_IP=10.0.101.10\n",
      "✅ WORKER_PRIVATE_IPS=10.0.102.10 10.0.101.11\n",
      "\n",
      "━━━━━━━━━━━━━━━━━━━━━━━━━━━━━━━━━━━━━━━━━━━━\n",
      "🔹 Step 1.5: Cleanup old SSH host keys\n",
      "━━━━━━━━━━━━━━━━━━━��━━━━━━━━━━━━━━━━━━━━━━━━\n",
      "# Host 3.34.245.190 found: line 77\n",
      "# Host 3.34.245.190 found: line 78\n",
      "# Host 3.34.245.190 found: line 79\n",
      "/home/aki/.ssh/known_hosts updated.\n",
      "Original contents retained as /home/aki/.ssh/known_hosts.old\n"
     ]
    },
    {
     "name": "stderr",
     "output_type": "stream",
     "text": [
      "++ ssh-keygen -R bastion-host\n",
      "++ ssh-keygen -R 10.0.101.10\n",
      "++ ssh-keygen -R swarm-manager\n",
      "++ worker_index=1\n",
      "++ for ip in $WORKER_PRIVATE_IPS\n",
      "++ ssh-keygen -R 10.0.102.10\n",
      "++ ssh-keygen -R worker1\n",
      "++ worker_index=2\n",
      "++ for ip in $WORKER_PRIVATE_IPS\n",
      "++ ssh-keygen -R 10.0.101.11\n",
      "++ ssh-keygen -R worker2\n",
      "++ worker_index=3\n",
      "++ echo '✅ Old SSH host keys removed from known_hosts'\n",
      "++ echo\n",
      "++ echo ━━━━━━━━━━━━━━━━━━━━━━━━━━━━━━━━━━━━���━━━━━━━\n",
      "++ echo '🔹 Step 2: Configure SSH config'\n",
      "++ echo ━━━━━━━━━━━━━━━━━━━━━━━━━━━━━━��━━━━━━━━━━━━━\n",
      "++ SSH_CONFIG_FILE=/home/aki/.ssh/config\n",
      "++ SSH_USER=ubuntu\n",
      "++ MANAGED_MARKER=setup_project_env.sh\n",
      "++ '[' '!' -f /home/aki/.ssh/config ']'\n"
     ]
    },
    {
     "name": "stdout",
     "output_type": "stream",
     "text": [
      "✅ Old SSH host keys removed from known_hosts\n",
      "\n",
      "━━━━━━━━━━━━━━━━━���━━━━━━━━━━━━━━━━━━━━━━━━━━\n",
      "🔹 Step 2: Configure SSH config\n",
      "━━━━━━━━━━━━━━━━━━━━━━━━━━━━���━━━━━━━━━━━━━━━\n"
     ]
    },
    {
     "name": "stderr",
     "output_type": "stream",
     "text": [
      "++ add_ssh_host bastion-host 3.34.245.190 /home/aki/.aws/key/test_key.pem ''\n",
      "++ local host_name=bastion-host\n",
      "++ local host_ip=3.34.245.190\n",
      "++ local identity_file=/home/aki/.aws/key/test_key.pem\n",
      "++ local proxy_jump=\n",
      "++ local 'begin_marker=# >>> setup_project_env.sh: bastion-host >>>'\n",
      "++ local 'end_marker=# <<< setup_project_env.sh: bastion-host <<<'\n",
      "++ grep -qF '# >>> setup_project_env.sh: bastion-host >>>' /home/aki/.ssh/config\n",
      "++ sed -i '/# >>> setup_project_env.sh: bastion-host >>>/,/# <<< setup_project_env.sh: bastion-host <<</d' /home/aki/.ssh/config\n",
      "++ echo '# >>> setup_project_env.sh: bastion-host >>>'\n",
      "++ echo 'Host bastion-host'\n",
      "++ echo '    Hostname 3.34.245.190'\n",
      "++ echo '    User ubuntu'\n",
      "++ echo '    IdentityFile /home/aki/.aws/key/test_key.pem'\n",
      "++ '[' -n '' ']'\n",
      "++ echo '# <<< setup_project_env.sh: bastion-host <<<'\n",
      "++ echo\n",
      "++ add_ssh_host swarm-manager 10.0.101.10 /home/aki/.aws/key/test_key.pem ubuntu@3.34.245.190\n",
      "++ local host_name=swarm-manager\n",
      "++ local host_ip=10.0.101.10\n",
      "++ local identity_file=/home/aki/.aws/key/test_key.pem\n",
      "++ local proxy_jump=ubuntu@3.34.245.190\n",
      "++ local 'begin_marker=# >>> setup_project_env.sh: swarm-manager >>>'\n",
      "++ local 'end_marker=# <<< setup_project_env.sh: swarm-manager <<<'\n",
      "++ grep -qF '# >>> setup_project_env.sh: swarm-manager >>>' /home/aki/.ssh/config\n",
      "++ sed -i '/# >>> setup_project_env.sh: swarm-manager >>>/,/# <<< setup_project_env.sh: swarm-manager <<</d' /home/aki/.ssh/config\n",
      "++ echo '# >>> setup_project_env.sh: swarm-manager >>>'\n",
      "++ echo 'Host swarm-manager'\n",
      "++ echo '    Hostname 10.0.101.10'\n",
      "++ echo '    User ubuntu'\n",
      "++ echo '    IdentityFile /home/aki/.aws/key/test_key.pem'\n",
      "++ '[' -n ubuntu@3.34.245.190 ']'\n",
      "++ echo '    ProxyJump ubuntu@3.34.245.190'\n",
      "++ echo '# <<< setup_project_env.sh: swarm-manager <<<'\n",
      "++ echo\n",
      "++ i=1\n",
      "++ for ip in $WORKER_PRIVATE_IPS\n",
      "++ add_ssh_host worker1 10.0.102.10 /home/aki/.aws/key/test_key.pem ubuntu@3.34.245.190\n",
      "++ local host_name=worker1\n",
      "++ local host_ip=10.0.102.10\n",
      "++ local identity_file=/home/aki/.aws/key/test_key.pem\n",
      "++ local proxy_jump=ubuntu@3.34.245.190\n",
      "++ local 'begin_marker=# >>> setup_project_env.sh: worker1 >>>'\n",
      "++ local 'end_marker=# <<< setup_project_env.sh: worker1 <<<'\n",
      "++ grep -qF '# >>> setup_project_env.sh: worker1 >>>' /home/aki/.ssh/config\n",
      "++ sed -i '/# >>> setup_project_env.sh: worker1 >>>/,/# <<< setup_project_env.sh: worker1 <<</d' /home/aki/.ssh/config\n",
      "++ echo '# >>> setup_project_env.sh: worker1 >>>'\n",
      "++ echo 'Host worker1'\n",
      "++ echo '    Hostname 10.0.102.10'\n",
      "++ echo '    User ubuntu'\n",
      "++ echo '    IdentityFile /home/aki/.aws/key/test_key.pem'\n",
      "++ '[' -n ubuntu@3.34.245.190 ']'\n",
      "++ echo '    ProxyJump ubuntu@3.34.245.190'\n",
      "++ echo '# <<< setup_project_env.sh: worker1 <<<'\n",
      "++ echo\n",
      "++ (( i++ ))\n",
      "++ for ip in $WORKER_PRIVATE_IPS\n",
      "++ add_ssh_host worker2 10.0.101.11 /home/aki/.aws/key/test_key.pem ubuntu@3.34.245.190\n",
      "++ local host_name=worker2\n",
      "++ local host_ip=10.0.101.11\n",
      "++ local identity_file=/home/aki/.aws/key/test_key.pem\n",
      "++ local proxy_jump=ubuntu@3.34.245.190\n",
      "++ local 'begin_marker=# >>> setup_project_env.sh: worker2 >>>'\n",
      "++ local 'end_marker=# <<< setup_project_env.sh: worker2 <<<'\n",
      "++ grep -qF '# >>> setup_project_env.sh: worker2 >>>' /home/aki/.ssh/config\n",
      "++ sed -i '/# >>> setup_project_env.sh: worker2 >>>/,/# <<< setup_project_env.sh: worker2 <<</d' /home/aki/.ssh/config\n",
      "++ echo '# >>> setup_project_env.sh: worker2 >>>'\n",
      "++ echo 'Host worker2'\n",
      "++ echo '    Hostname 10.0.101.11'\n",
      "++ echo '    User ubuntu'\n",
      "++ echo '    IdentityFile /home/aki/.aws/key/test_key.pem'\n",
      "++ '[' -n ubuntu@3.34.245.190 ']'\n",
      "++ echo '    ProxyJump ubuntu@3.34.245.190'\n",
      "++ echo '# <<< setup_project_env.sh: worker2 <<<'\n",
      "++ echo\n",
      "++ (( i++ ))\n",
      "++ echo '✅ SSH config updated with bastion, manager, and worker nodes'\n",
      "++ command -v awk\n",
      "+++ mktemp\n",
      "++ tmp_config=/tmp/tmp.taAW5MvgvX\n",
      "++ awk 'BEGIN{blank=0} {\n",
      "        if ($0 ~ /^[[:space:]]*$/) {\n",
      "            if (blank) next\n",
      "            blank=1\n",
      "        } else {\n",
      "            blank=0\n",
      "        }\n",
      "        print\n",
      "    }' /home/aki/.ssh/config\n"
     ]
    },
    {
     "name": "stdout",
     "output_type": "stream",
     "text": [
      "✅ SSH config updated with bastion, manager, and worker nodes\n"
     ]
    },
    {
     "name": "stderr",
     "output_type": "stream",
     "text": [
      "++ mv /tmp/tmp.taAW5MvgvX /home/aki/.ssh/config\n",
      "++ chmod 600 /home/aki/.ssh/config\n",
      "++ echo\n",
      "++ echo ━━━━━━━━━━━━━━━━━━━━━━━━━━━━━━━━━━━━━━━━━━━━\n",
      "++ echo '🔹 Step 2.5: Register SSH known_hosts'\n",
      "++ echo ━━━━━━━━━━━━━━━━━━━━━━━━━━━━━━━━━━━━━━━━━━━━\n"
     ]
    },
    {
     "name": "stdout",
     "output_type": "stream",
     "text": [
      "\n",
      "━━━━━━━━━━━━━━━━━━━━━━━━━━━━━━━━━━━━━━━━━━━━\n",
      "🔹 Step 2.5: Register SSH known_hosts\n",
      "━━━━━━━━��━━━━━━━━━━━━━━━━━━━━━━━━━━━━━━━━━━━\n"
     ]
    },
    {
     "name": "stderr",
     "output_type": "stream",
     "text": [
      "++ ensure_known_host bastion-host 3.34.245.190\n",
      "++ local alias=bastion-host\n",
      "++ local ip=3.34.245.190\n",
      "++ ssh -F /home/aki/.ssh/config -o BatchMode=yes -o StrictHostKeyChecking=accept-new -o UserKnownHostsFile=/home/aki/.ssh/known_hosts -o ConnectTimeout=15 bastion-host true\n",
      "++ '[' -n 3.34.245.190 ']'\n",
      "++ ssh -F /home/aki/.ssh/config -o BatchMode=yes -o StrictHostKeyChecking=accept-new -o UserKnownHostsFile=/home/aki/.ssh/known_hosts -o HostKeyAlias=3.34.245.190 -o ConnectTimeout=15 bastion-host true\n",
      "++ ensure_known_host swarm-manager 10.0.101.10\n",
      "++ local alias=swarm-manager\n",
      "++ local ip=10.0.101.10\n",
      "++ ssh -F /home/aki/.ssh/config -o BatchMode=yes -o StrictHostKeyChecking=accept-new -o UserKnownHostsFile=/home/aki/.ssh/known_hosts -o ConnectTimeout=15 swarm-manager true\n",
      "++ true\n",
      "++ '[' -n 10.0.101.10 ']'\n",
      "++ ssh -F /home/aki/.ssh/config -o BatchMode=yes -o StrictHostKeyChecking=accept-new -o UserKnownHostsFile=/home/aki/.ssh/known_hosts -o HostKeyAlias=10.0.101.10 -o ConnectTimeout=15 swarm-manager true\n",
      "++ true\n",
      "++ worker_index=1\n",
      "++ for ip in $WORKER_PRIVATE_IPS\n",
      "++ ensure_known_host worker1 10.0.102.10\n",
      "++ local alias=worker1\n",
      "++ local ip=10.0.102.10\n",
      "++ ssh -F /home/aki/.ssh/config -o BatchMode=yes -o StrictHostKeyChecking=accept-new -o UserKnownHostsFile=/home/aki/.ssh/known_hosts -o ConnectTimeout=15 worker1 true\n",
      "++ true\n",
      "++ '[' -n 10.0.102.10 ']'\n",
      "++ ssh -F /home/aki/.ssh/config -o BatchMode=yes -o StrictHostKeyChecking=accept-new -o UserKnownHostsFile=/home/aki/.ssh/known_hosts -o HostKeyAlias=10.0.102.10 -o ConnectTimeout=15 worker1 true\n",
      "++ true\n",
      "++ worker_index=2\n",
      "++ for ip in $WORKER_PRIVATE_IPS\n",
      "++ ensure_known_host worker2 10.0.101.11\n",
      "++ local alias=worker2\n",
      "++ local ip=10.0.101.11\n",
      "++ ssh -F /home/aki/.ssh/config -o BatchMode=yes -o StrictHostKeyChecking=accept-new -o UserKnownHostsFile=/home/aki/.ssh/known_hosts -o ConnectTimeout=15 worker2 true\n",
      "++ true\n",
      "++ '[' -n 10.0.101.11 ']'\n",
      "++ ssh -F /home/aki/.ssh/config -o BatchMode=yes -o StrictHostKeyChecking=accept-new -o UserKnownHostsFile=/home/aki/.ssh/known_hosts -o HostKeyAlias=10.0.101.11 -o ConnectTimeout=15 worker2 true\n",
      "++ true\n",
      "++ worker_index=3\n",
      "++ echo '✅ Hosts added to known_hosts to avoid authenticity prompt'\n",
      "++ echo\n",
      "++ echo ━━━━━━━━━━━━━━━━━━━━━━━━━━━━━���━━━━━━━━━━━━━━\n",
      "++ echo '🔹 Step 3: SSH agent check & add key'\n",
      "++ echo ━━━━━━━━━━━━━━━━━━━━━━━━━━━━━━━━��━━━━━━━━━━━\n",
      "++ ssh-add -l\n"
     ]
    },
    {
     "name": "stdout",
     "output_type": "stream",
     "text": [
      "✅ Hosts added to known_hosts to avoid authenticity prompt\n",
      "\n",
      "━━━━━━━━━━━━━━━━━━━━━━━━━━━━━━━━━━━━━━━━━━━━\n",
      "🔹 Step 3: SSH agent check & add key\n",
      "━━━━━━━━━━━━━━━━━━━━━━���━━━━━━━━━━━━━━━━━━━━━\n"
     ]
    },
    {
     "name": "stderr",
     "output_type": "stream",
     "text": [
      "++ echo '⚠️ SSH agent not running. Starting ssh-agent...'\n"
     ]
    },
    {
     "name": "stdout",
     "output_type": "stream",
     "text": [
      "⚠️ SSH agent not running. Starting ssh-agent...\n"
     ]
    },
    {
     "name": "stderr",
     "output_type": "stream",
     "text": [
      "+++ ssh-agent -s\n",
      "++ eval 'SSH_AUTH_SOCK=/tmp/ssh-XXXXXX2WvIjf/agent.332616; export SSH_AUTH_SOCK;\n",
      "SSH_AGENT_PID=332617; export SSH_AGENT_PID;\n",
      "echo Agent pid 332617;'\n",
      "+++ SSH_AUTH_SOCK=/tmp/ssh-XXXXXX2WvIjf/agent.332616\n",
      "+++ export SSH_AUTH_SOCK\n",
      "+++ SSH_AGENT_PID=332617\n",
      "+++ export SSH_AGENT_PID\n",
      "+++ echo Agent pid 332617\n",
      "++ ssh-add -l\n",
      "+++ basename /home/aki/.aws/key/test_key.pem\n",
      "++ grep -q test_key.pem\n",
      "++ ssh-add /home/aki/.aws/key/test_key.pem\n",
      "++ echo '✅ SSH key added to agent successfully.'\n",
      "++ echo\n",
      "++ echo ━━━━━━━━━━━━━━━━━━━━━━━━━━━━━━━━━━━━━━━━━━━━\n",
      "++ echo '🔹 Step 4: Docker host setup'\n"
     ]
    },
    {
     "name": "stdout",
     "output_type": "stream",
     "text": [
      "✅ SSH key added to agent successfully.\n",
      "\n",
      "━━━━━━━━━━━━━━━━━━━���━━━━━━━━━━━━━━━━━━━━━━━━\n",
      "🔹 Step 4: Docker host setup\n",
      "━━━━━━━━━━━━━━━━━━━━━━━━━━━━━━━���━━━━━━━━━━━━\n",
      "✅ DOCKER_HOST set to ssh://swarm-manager\n"
     ]
    },
    {
     "name": "stderr",
     "output_type": "stream",
     "text": [
      "++ echo ━━━━━━━━━━━━━━━━━━━━━━━━━━━━━━��━━━━━━━━━━━━━\n",
      "++ DOCKER_HOST=ssh://swarm-manager\n",
      "++ export DOCKER_HOST\n",
      "++ echo '✅ DOCKER_HOST set to ssh://swarm-manager'\n",
      "++ echo '   (run '\\''unset DOCKER_HOST'\\'' to switch back to the local Docker daemon)'\n",
      "++ echo\n",
      "++ echo '🎉 Project environment setup complete. You can now run Ansible commands and connection scripts.'\n"
     ]
    },
    {
     "name": "stdout",
     "output_type": "stream",
     "text": [
      "   (run 'unset DOCKER_HOST' to switch back to the local Docker daemon)\n",
      "\n",
      "🎉 Project environment setup complete. You can now run Ansible commands and connection scripts.\n"
     ]
    },
    {
     "name": "stderr",
     "output_type": "stream",
     "text": [
      "+ STACK_FILE=02-operations/monitoring/stack.yml\n",
      "+ docker stack deploy -c 02-operations/monitoring/stack.yml monitoring\n",
      "Since --detach=false was not specified, tasks will be created in the background.\n",
      "In a future release, --detach=false will become the default.\n",
      "error during connect: Get \"http://docker.example.com/v1.47/info\": command [ssh -o ConnectTimeout=30 -T -- swarm-manager docker system dial-stdio] has exited with exit status 255, make sure the URL is valid, and Docker 18.09 or later is installed on the remote host: stderr=ssh_askpass: exec(/usr/bin/ssh-askpass): No such file or directory\n",
      "Host key verification failed.\n",
      "\n"
     ]
    },
    {
     "ename": "CalledProcessError",
     "evalue": "Command 'b'set -euxo pipefail\\ncd \"$(dirname \"$(dirname \"$PWD\")\")\"\\nsource scripts/bin/setup_project_env.sh\\nSTACK_FILE=\"02-operations/monitoring/stack.yml\"\\ndocker stack deploy -c \"$STACK_FILE\" monitoring\\n'' returned non-zero exit status 1.",
     "output_type": "error",
     "traceback": [
      "\u001b[0;31m---------------------------------------------------------------------------\u001b[0m",
      "\u001b[0;31mCalledProcessError\u001b[0m                        Traceback (most recent call last)",
      "Cell \u001b[0;32mIn[13], line 1\u001b[0m\n\u001b[0;32m----> 1\u001b[0m \u001b[43mget_ipython\u001b[49m\u001b[43m(\u001b[49m\u001b[43m)\u001b[49m\u001b[38;5;241;43m.\u001b[39;49m\u001b[43mrun_cell_magic\u001b[49m\u001b[43m(\u001b[49m\u001b[38;5;124;43m'\u001b[39;49m\u001b[38;5;124;43mbash\u001b[39;49m\u001b[38;5;124;43m'\u001b[39;49m\u001b[43m,\u001b[49m\u001b[43m \u001b[49m\u001b[38;5;124;43m'\u001b[39;49m\u001b[38;5;124;43m'\u001b[39;49m\u001b[43m,\u001b[49m\u001b[43m \u001b[49m\u001b[38;5;124;43m'\u001b[39;49m\u001b[38;5;124;43mset -euxo pipefail\u001b[39;49m\u001b[38;5;130;43;01m\\n\u001b[39;49;00m\u001b[38;5;124;43mcd \u001b[39;49m\u001b[38;5;124;43m\"\u001b[39;49m\u001b[38;5;124;43m$(dirname \u001b[39;49m\u001b[38;5;124;43m\"\u001b[39;49m\u001b[38;5;124;43m$(dirname \u001b[39;49m\u001b[38;5;124;43m\"\u001b[39;49m\u001b[38;5;124;43m$PWD\u001b[39;49m\u001b[38;5;124;43m\"\u001b[39;49m\u001b[38;5;124;43m)\u001b[39;49m\u001b[38;5;124;43m\"\u001b[39;49m\u001b[38;5;124;43m)\u001b[39;49m\u001b[38;5;124;43m\"\u001b[39;49m\u001b[38;5;130;43;01m\\n\u001b[39;49;00m\u001b[38;5;124;43msource scripts/bin/setup_project_env.sh\u001b[39;49m\u001b[38;5;130;43;01m\\n\u001b[39;49;00m\u001b[38;5;124;43mSTACK_FILE=\u001b[39;49m\u001b[38;5;124;43m\"\u001b[39;49m\u001b[38;5;124;43m02-operations/monitoring/stack.yml\u001b[39;49m\u001b[38;5;124;43m\"\u001b[39;49m\u001b[38;5;130;43;01m\\n\u001b[39;49;00m\u001b[38;5;124;43mdocker stack deploy -c \u001b[39;49m\u001b[38;5;124;43m\"\u001b[39;49m\u001b[38;5;124;43m$STACK_FILE\u001b[39;49m\u001b[38;5;124;43m\"\u001b[39;49m\u001b[38;5;124;43m monitoring\u001b[39;49m\u001b[38;5;130;43;01m\\n\u001b[39;49;00m\u001b[38;5;124;43m'\u001b[39;49m\u001b[43m)\u001b[49m\n",
      "File \u001b[0;32m~/.local/lib/python3.10/site-packages/IPython/core/interactiveshell.py:2543\u001b[0m, in \u001b[0;36mInteractiveShell.run_cell_magic\u001b[0;34m(self, magic_name, line, cell)\u001b[0m\n\u001b[1;32m   2541\u001b[0m \u001b[38;5;28;01mwith\u001b[39;00m \u001b[38;5;28mself\u001b[39m\u001b[38;5;241m.\u001b[39mbuiltin_trap:\n\u001b[1;32m   2542\u001b[0m     args \u001b[38;5;241m=\u001b[39m (magic_arg_s, cell)\n\u001b[0;32m-> 2543\u001b[0m     result \u001b[38;5;241m=\u001b[39m \u001b[43mfn\u001b[49m\u001b[43m(\u001b[49m\u001b[38;5;241;43m*\u001b[39;49m\u001b[43margs\u001b[49m\u001b[43m,\u001b[49m\u001b[43m \u001b[49m\u001b[38;5;241;43m*\u001b[39;49m\u001b[38;5;241;43m*\u001b[39;49m\u001b[43mkwargs\u001b[49m\u001b[43m)\u001b[49m\n\u001b[1;32m   2545\u001b[0m \u001b[38;5;66;03m# The code below prevents the output from being displayed\u001b[39;00m\n\u001b[1;32m   2546\u001b[0m \u001b[38;5;66;03m# when using magics with decorator @output_can_be_silenced\u001b[39;00m\n\u001b[1;32m   2547\u001b[0m \u001b[38;5;66;03m# when the last Python token in the expression is a ';'.\u001b[39;00m\n\u001b[1;32m   2548\u001b[0m \u001b[38;5;28;01mif\u001b[39;00m \u001b[38;5;28mgetattr\u001b[39m(fn, magic\u001b[38;5;241m.\u001b[39mMAGIC_OUTPUT_CAN_BE_SILENCED, \u001b[38;5;28;01mFalse\u001b[39;00m):\n",
      "File \u001b[0;32m~/.local/lib/python3.10/site-packages/IPython/core/magics/script.py:159\u001b[0m, in \u001b[0;36mScriptMagics._make_script_magic.<locals>.named_script_magic\u001b[0;34m(line, cell)\u001b[0m\n\u001b[1;32m    157\u001b[0m \u001b[38;5;28;01melse\u001b[39;00m:\n\u001b[1;32m    158\u001b[0m     line \u001b[38;5;241m=\u001b[39m script\n\u001b[0;32m--> 159\u001b[0m \u001b[38;5;28;01mreturn\u001b[39;00m \u001b[38;5;28;43mself\u001b[39;49m\u001b[38;5;241;43m.\u001b[39;49m\u001b[43mshebang\u001b[49m\u001b[43m(\u001b[49m\u001b[43mline\u001b[49m\u001b[43m,\u001b[49m\u001b[43m \u001b[49m\u001b[43mcell\u001b[49m\u001b[43m)\u001b[49m\n",
      "File \u001b[0;32m~/.local/lib/python3.10/site-packages/IPython/core/magics/script.py:336\u001b[0m, in \u001b[0;36mScriptMagics.shebang\u001b[0;34m(self, line, cell)\u001b[0m\n\u001b[1;32m    331\u001b[0m \u001b[38;5;28;01mif\u001b[39;00m args\u001b[38;5;241m.\u001b[39mraise_error \u001b[38;5;129;01mand\u001b[39;00m p\u001b[38;5;241m.\u001b[39mreturncode \u001b[38;5;241m!=\u001b[39m \u001b[38;5;241m0\u001b[39m:\n\u001b[1;32m    332\u001b[0m     \u001b[38;5;66;03m# If we get here and p.returncode is still None, we must have\u001b[39;00m\n\u001b[1;32m    333\u001b[0m     \u001b[38;5;66;03m# killed it but not yet seen its return code. We don't wait for it,\u001b[39;00m\n\u001b[1;32m    334\u001b[0m     \u001b[38;5;66;03m# in case it's stuck in uninterruptible sleep. -9 = SIGKILL\u001b[39;00m\n\u001b[1;32m    335\u001b[0m     rc \u001b[38;5;241m=\u001b[39m p\u001b[38;5;241m.\u001b[39mreturncode \u001b[38;5;129;01mor\u001b[39;00m \u001b[38;5;241m-\u001b[39m\u001b[38;5;241m9\u001b[39m\n\u001b[0;32m--> 336\u001b[0m     \u001b[38;5;28;01mraise\u001b[39;00m CalledProcessError(rc, cell)\n",
      "\u001b[0;31mCalledProcessError\u001b[0m: Command 'b'set -euxo pipefail\\ncd \"$(dirname \"$(dirname \"$PWD\")\")\"\\nsource scripts/bin/setup_project_env.sh\\nSTACK_FILE=\"02-operations/monitoring/stack.yml\"\\ndocker stack deploy -c \"$STACK_FILE\" monitoring\\n'' returned non-zero exit status 1."
     ]
    }
   ],
   "source": [
    "%%bash\n",
    "set -euxo pipefail\n",
    "cd \"$(dirname \"$(dirname \"$PWD\")\")\"\n",
    "source scripts/bin/setup_project_env.sh\n",
    "STACK_FILE=\"02-operations/monitoring/stack.yml\"\n",
    "docker stack deploy -c \"$STACK_FILE\" monitoring\n"
   ]
  },
  {
   "cell_type": "markdown",
   "id": "5b604448",
   "metadata": {},
   "source": [
    "### 3. 로깅 스택 배포 (Loki + Promtail)"
   ]
  },
  {
   "cell_type": "code",
   "execution_count": null,
   "id": "23485ae7",
   "metadata": {
    "tags": [
     "bash"
    ]
   },
   "outputs": [],
   "source": [
    "%%bash\n",
    "export DOCKER_HOST=\"ssh://swarm-manager\"\n",
    "STACK_FILE=../02-operations/logging/stack.yml\n",
    "docker stack deploy -c ${STACK_FILE} logging\n"
   ]
  },
  {
   "cell_type": "markdown",
   "id": "64e25c9f",
   "metadata": {},
   "source": [
    "### 4. 서비스 확인"
   ]
  },
  {
   "cell_type": "code",
   "execution_count": null,
   "id": "dcc2d4c6",
   "metadata": {
    "tags": [
     "bash"
    ]
   },
   "outputs": [],
   "source": [
    "%%bash\n",
    "export DOCKER_HOST=\"ssh://swarm-manager\"\n",
    "docker service ls | grep monitoring\n",
    "docker service ls | grep logging"
   ]
  },
  {
   "cell_type": "markdown",
   "metadata": {},
   "source": [
    "### 5. 접속 정보\n",
    "- Prometheus: http://localhost:9090\n",
    "- Grafana: http://localhost:3000 (ID/PW: admin/admin)\n",
    "- Loki API: http://localhost:3100\n",
    "스택 제거: `docker stack rm monitoring`, `docker stack rm logging`"
   ]
  }
 ],
 "metadata": {
  "kernelspec": {
   "display_name": "Python 3",
   "language": "python",
   "name": "python3"
  },
  "language_info": {
   "codemirror_mode": {
    "name": "ipython",
    "version": 3
   },
   "file_extension": ".py",
   "mimetype": "text/x-python",
   "name": "python",
   "nbconvert_exporter": "python",
   "pygments_lexer": "ipython3",
   "version": "3.10.12"
  }
 },
 "nbformat": 4,
 "nbformat_minor": 5
}
