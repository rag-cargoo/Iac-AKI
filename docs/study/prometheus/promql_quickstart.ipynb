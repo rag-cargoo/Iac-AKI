{
  "cells": [
    {
      "cell_type": "markdown",
      "metadata": {},
      "source": [
        "# Prometheus PromQL Quickstart\n",
        "\uc774 \ub178\ud2b8\ubd81\uc740 \ud3ec\ud2b8\ud3ec\uc6cc\ub529\ub41c Prometheus \uc5d4\ub4dc\ud3ec\uc778\ud2b8\ub97c \ub300\uc0c1\uc73c\ub85c PromQL\uc744 \uc2e4\ud589\ud558\uace0 \uacb0\uacfc\ub97c \ud310\ub2e4\uc2a4\ub85c \ud655\uc778\ud558\ub294 \uc608\uc81c\uc785\ub2c8\ub2e4.\n",
        "\n",
        "- `PROMETHEUS_URL` \ud658\uacbd \ubcc0\uc218\ub97c \uc124\uc815\ud558\uba74 \uae30\ubcf8 \uc5d4\ub4dc\ud3ec\uc778\ud2b8\ub97c \ubcc0\uacbd\ud560 \uc218 \uc788\uc2b5\ub2c8\ub2e4.\n",
        "- `docs/study/prometheus/queries` \ub514\ub809\ud130\ub9ac\uc5d0 `.promql` \ud30c\uc77c\uc744 \uc800\uc7a5\ud574 \ub450\uace0 \ubd88\ub7ec\uc62c \uc218 \uc788\uc2b5\ub2c8\ub2e4.\n"
      ]
    },
    {
      "cell_type": "code",
      "execution_count": null,
      "metadata": {},
      "outputs": [],
      "source": [
        "import sys\n",
        "import subprocess\n",
        "\n",
        "def ensure_package(package):\n",
        "    try:\n",
        "        __import__(package)\n",
        "    except ModuleNotFoundError:\n",
        "        subprocess.check_call([sys.executable, '-m', 'pip', 'install', package])\n",
        "\n",
        "for pkg in ('requests', 'pandas'):\n",
        "    ensure_package(pkg)\n"
      ]
    },
    {
      "cell_type": "code",
      "execution_count": null,
      "metadata": {},
      "outputs": [],
      "source": [
        "import os\n",
        "import requests\n",
        "import pandas as pd\n",
        "from datetime import datetime\n",
        "from pathlib import Path\n",
        "\n",
        "PROMETHEUS_URL = os.getenv('PROMETHEUS_URL', 'http://localhost:9090')\n",
        "print(f'Using Prometheus endpoint: {PROMETHEUS_URL}')\n"
      ]
    },
    {
      "cell_type": "markdown",
      "metadata": {},
      "source": [
        "## Helper \ud568\uc218\n",
        "PromQL \ucffc\ub9ac\ub97c \uc2e4\ud589\ud558\uace0 JSON \uacb0\uacfc\ub97c \ub370\uc774\ud130\ud504\ub808\uc784\uc73c\ub85c \ubcc0\ud658\ud569\ub2c8\ub2e4."
      ]
    },
    {
      "cell_type": "code",
      "execution_count": null,
      "metadata": {},
      "outputs": [],
      "source": [
        "def run_promql(query: str, when: datetime | None = None):\n",
        "    params = {'query': query}\n",
        "    if when is not None:\n",
        "        params['time'] = when.timestamp()\n",
        "    response = requests.get(f'{PROMETHEUS_URL}/api/v1/query', params=params, timeout=10)\n",
        "    response.raise_for_status()\n",
        "    payload = response.json()\n",
        "    if payload.get('status') != 'success':\n",
        "        raise RuntimeError(f\"Prometheus query failed: {payload}\")\n",
        "    return payload['data']['result']\n",
        "\n",
        "def promql_to_dataframe(result):\n",
        "    records = []\n",
        "    for item in result:\n",
        "        metric = item.get('metric', {})\n",
        "        value = item.get('value')\n",
        "        if value:\n",
        "            records.append({**metric, 'value': float(value[1]), 'timestamp': datetime.fromtimestamp(value[0])})\n",
        "    return pd.DataFrame(records)\n"
      ]
    },
    {
      "cell_type": "markdown",
      "metadata": {},
      "source": [
        "## \uc608\uc2dc 1: Node Exporter \uc0c1\ud0dc (up)\n",
        "\uac01 \ub178\ub4dc\uc758 Node Exporter\uac00 \uc0b4\uc544 \uc788\ub294\uc9c0 \ud655\uc778\ud569\ub2c8\ub2e4."
      ]
    },
    {
      "cell_type": "code",
      "execution_count": null,
      "metadata": {},
      "outputs": [],
      "source": [
        "query = 'up{job=\"node-exporter\"}'\n",
        "promql_to_dataframe(run_promql(query))[['instance', 'value', 'timestamp']]\n"
      ]
    },
    {
      "cell_type": "markdown",
      "metadata": {},
      "source": [
        "## \uc608\uc2dc 2: CPU \uc0ac\uc6a9\ub960\n",
        "\ucd5c\uadfc 5\ubd84 \ud3c9\uade0 CPU idle \ube44\uc728\uc744 \uc774\uc6a9\ud574\uc11c \uc0ac\uc6a9\ub960(%)\uc744 \uacc4\uc0b0\ud569\ub2c8\ub2e4."
      ]
    },
    {
      "cell_type": "code",
      "execution_count": null,
      "metadata": {},
      "outputs": [],
      "source": [
        "cpu_query = '100 - (avg by (instance)(rate(node_cpu_seconds_total{mode=\"idle\", job=\"node-exporter\"}[5m])) * 100)'\n",
        "promql_to_dataframe(run_promql(cpu_query))[['instance', 'value']].rename(columns={'value': 'cpu_usage_percent'})\n"
      ]
    },
    {
      "cell_type": "markdown",
      "metadata": {},
      "source": [
        "## \uc608\uc2dc 3: \uba54\ubaa8\ub9ac \uc0ac\uc6a9\ub960\n",
        "\ucd1d \uba54\ubaa8\ub9ac \ub300\ube44 \uc0ac\uc6a9 \uc911\uc778 \uba54\ubaa8\ub9ac\ub97c \uacc4\uc0b0\ud569\ub2c8\ub2e4."
      ]
    },
    {
      "cell_type": "code",
      "execution_count": null,
      "metadata": {},
      "outputs": [],
      "source": [
        "mem_query = '(1 - node_memory_MemAvailable_bytes{job=\"node-exporter\"} / node_memory_MemTotal_bytes{job=\"node-exporter\"}) * 100'\n",
        "promql_to_dataframe(run_promql(mem_query))[['instance', 'value']].rename(columns={'value': 'memory_usage_percent'})\n"
      ]
    },
    {
      "cell_type": "markdown",
      "metadata": {},
      "source": [
        "## \ud30c\uc77c\uc5d0\uc11c PromQL \uc2e4\ud589\ud558\uae30\n",
        "`docs/study/prometheus/queries` \ub514\ub809\ud130\ub9ac\uc5d0 `.promql` \ud30c\uc77c\uc744 \uc800\uc7a5\ud574 \ub450\uace0 \uc2e4\ud589\ud560 \uc218 \uc788\uc2b5\ub2c8\ub2e4."
      ]
    },
    {
      "cell_type": "code",
      "execution_count": null,
      "metadata": {},
      "outputs": [],
      "source": [
        "QUERIES_DIR = Path('docs/study/prometheus/queries')\n",
        "\n",
        "def run_query_file(filename: str):\n",
        "    path = QUERIES_DIR / filename\n",
        "    if not path.exists():\n",
        "        raise FileNotFoundError(f'Query file not found: {path}')\n",
        "    query_text = path.read_text(encoding='utf-8').strip()\n",
        "    print(f'Running PromQL from {path}:\n",
        "{query_text}')\n",
        "    return promql_to_dataframe(run_promql(query_text))\n",
        "\n",
        "# \uc608\uc2dc \uc2e4\ud589\n",
        "run_query_file('node_up.promql')\n"
      ]
    }
  ],
  "metadata": {
    "kernelspec": {
      "display_name": "Python 3",
      "language": "python",
      "name": "python3"
    },
    "language_info": {
      "name": "python",
      "version": "3.10"
    }
  },
  "nbformat": 4,
  "nbformat_minor": 5
}