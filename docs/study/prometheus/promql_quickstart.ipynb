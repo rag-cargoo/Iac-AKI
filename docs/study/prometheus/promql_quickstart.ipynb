{
  "cells": [
    {
      "cell_type": "markdown",
      "metadata": {},
      "source": [
        "# Prometheus PromQL Quickstart\n",
        "이 노트북은 포트포워딩된 Prometheus 엔드포인트를 대상으로 PromQL을 실행하고 결과를 판다스로 확인하는 예제입니다.\n"
      ]
    },
    {
      "cell_type": "code",
      "execution_count": 1,
      "id": "b4a134d5",
      "metadata": {},
      "outputs": [
        {
          "name": "stdout",
          "output_type": "stream",
          "text": [
            "Defaulting to user installation because normal site-packages is not writeable\n",
            "Collecting pandas\n",
            "  Downloading pandas-2.3.2-cp310-cp310-manylinux_2_17_x86_64.manylinux2014_x86_64.whl (12.3 MB)\n",
            "     ━━━━━━━━━━━━━━━━━━━━━━━━━━━━━━━━━━━━━━━━ 12.3/12.3 MB 10.5 MB/s eta 0:00:00\n",
            "Requirement already satisfied: pytz>=2020.1 in /usr/lib/python3/dist-packages (from pandas) (2022.1)\n",
            "Collecting numpy>=1.22.4\n",
            "  Downloading numpy-2.2.6-cp310-cp310-manylinux_2_17_x86_64.manylinux2014_x86_64.whl (16.8 MB)\n",
            "     ━━━━━━━━━━━━━━━━━━━━━━━━━━━━━━━━━━━━━━━━ 16.8/16.8 MB 10.2 MB/s eta 0:00:00\n",
            "Collecting tzdata>=2022.7\n",
            "  Downloading tzdata-2025.2-py2.py3-none-any.whl (347 kB)\n",
            "     ━━━━━━━━━━━━━━━━━━━━━━━━━━━━━━━━━━━━━━━ 347.8/347.8 KB 9.5 MB/s eta 0:00:00\n",
            "Requirement already satisfied: python-dateutil>=2.8.2 in /home/aki/.local/lib/python3.10/site-packages (from pandas) (2.9.0.post0)\n",
            "Requirement already satisfied: six>=1.5 in /usr/lib/python3/dist-packages (from python-dateutil>=2.8.2->pandas) (1.16.0)\n",
            "Installing collected packages: tzdata, numpy, pandas\n",
            "Successfully installed numpy-2.2.6 pandas-2.3.2 tzdata-2025.2\n"
          ]
        }
      ],
      "source": [
        "import sys\n",
        "import subprocess\n",
        "\n",
        "def ensure_package(package):\n",
        "    try:\n",
        "        __import__(package)\n",
        "    except ModuleNotFoundError:\n",
        "        subprocess.check_call([sys.executable, '-m', 'pip', 'install', package])\n",
        "\n",
        "for pkg in ('requests', 'pandas'):\n",
        "    ensure_package(pkg)\n"
      ]
    },
    {
      "cell_type": "code",
      "execution_count": 7,
      "id": "cdb63dce",
      "metadata": {},
      "outputs": [
        {
          "name": "stdout",
          "output_type": "stream",
          "text": [
            "Using Prometheus endpoint: http://localhost:9090\n"
          ]
        }
      ],
      "source": [
        "import os\n",
        "import requests\n",
        "import pandas as pd\n",
        "from datetime import datetime\n",
        "\n",
        "PROMETHEUS_URL = os.getenv('PROMETHEUS_URL', 'http://localhost:9090')\n",
        "print(f'Using Prometheus endpoint: {PROMETHEUS_URL}')\n"
      ]
    },
    {
      "cell_type": "markdown",
      "metadata": {},
      "source": [
        "## Helper 함수\n",
        "PromQL 쿼리를 실행하고 JSON 결과를 데이터프레임으로 변환합니다."
      ]
    },
    {
      "cell_type": "code",
      "execution_count": 3,
      "metadata": {},
      "outputs": [],
      "source": [
        "def run_promql(query: str, time: datetime | None = None):\n",
        "    params = {'query': query}\n",
        "    if time is not None:\n",
        "        params['time'] = time.timestamp()\n",
        "    response = requests.get(f'{PROMETHEUS_URL}/api/v1/query', params=params, timeout=10)\n",
        "    response.raise_for_status()\n",
        "    payload = response.json()\n",
        "    if payload.get('status') != 'success':\n",
        "        raise RuntimeError(f\"Prometheus query failed: {payload}\")\n",
        "    return payload['data']['result']\n",
        "\n",
        "def promql_to_dataframe(result):\n",
        "    records = []\n",
        "    for item in result:\n",
        "        metric = item.get('metric', {})\n",
        "        value = item.get('value')\n",
        "        if value:\n",
        "            records.append({**metric, 'value': float(value[1]), 'timestamp': datetime.fromtimestamp(value[0])})\n",
        "    return pd.DataFrame(records)\n"
      ]
    },
    {
      "cell_type": "markdown",
      "metadata": {},
      "source": [
        "## 예시 1: Node Exporter 상태 (up)\n",
        "각 노드의 Node Exporter가 살아 있는지 확인합니다."
      ]
    },
    {
      "cell_type": "code",
      "execution_count": 4,
      "metadata": {},
      "outputs": [
        {
          "data": {
            "text/html": [
              "<div>\n",
              "<style scoped>\n",
              "    .dataframe tbody tr th:only-of-type {\n",
              "        vertical-align: middle;\n",
              "    }\n",
              "\n",
              "    .dataframe tbody tr th {\n",
              "        vertical-align: top;\n",
              "    }\n",
              "\n",
              "    .dataframe thead th {\n",
              "        text-align: right;\n",
              "    }\n",
              "</style>\n",
              "<table border=\"1\" class=\"dataframe\">\n",
              "  <thead>\n",
              "    <tr style=\"text-align: right;\">\n",
              "      <th></th>\n",
              "      <th>instance</th>\n",
              "      <th>value</th>\n",
              "      <th>timestamp</th>\n",
              "    </tr>\n",
              "  </thead>\n",
              "  <tbody>\n",
              "    <tr>\n",
              "      <th>0</th>\n",
              "      <td>10.0.1.6:9100</td>\n",
              "      <td>1.0</td>\n",
              "      <td>2025-09-28 15:06:18.474</td>\n",
              "    </tr>\n",
              "    <tr>\n",
              "      <th>1</th>\n",
              "      <td>10.0.1.8:9100</td>\n",
              "      <td>1.0</td>\n",
              "      <td>2025-09-28 15:06:18.474</td>\n",
              "    </tr>\n",
              "    <tr>\n",
              "      <th>2</th>\n",
              "      <td>10.0.1.7:9100</td>\n",
              "      <td>1.0</td>\n",
              "      <td>2025-09-28 15:06:18.474</td>\n",
              "    </tr>\n",
              "  </tbody>\n",
              "</table>\n",
              "</div>"
            ],
            "text/plain": [
              "        instance  value               timestamp\n",
              "0  10.0.1.6:9100    1.0 2025-09-28 15:06:18.474\n",
              "1  10.0.1.8:9100    1.0 2025-09-28 15:06:18.474\n",
              "2  10.0.1.7:9100    1.0 2025-09-28 15:06:18.474"
            ]
          },
          "execution_count": 4,
          "metadata": {},
          "output_type": "execute_result"
        }
      ],
      "source": [
        "query = 'up{job=\"node-exporter\"}'\n",
        "result = run_promql(query)\n",
        "df = promql_to_dataframe(result)\n",
        "df[['instance', 'value', 'timestamp']]\n"
      ]
    },
    {
      "cell_type": "markdown",
      "metadata": {},
      "source": [
        "## 예시 2: CPU 사용률\n",
        "최근 5분 평균 CPU idle 비율을 이용해서 사용률(%)을 계산합니다."
      ]
    },
    {
      "cell_type": "code",
      "execution_count": 5,
      "metadata": {},
      "outputs": [
        {
          "data": {
            "text/html": [
              "<div>\n",
              "<style scoped>\n",
              "    .dataframe tbody tr th:only-of-type {\n",
              "        vertical-align: middle;\n",
              "    }\n",
              "\n",
              "    .dataframe tbody tr th {\n",
              "        vertical-align: top;\n",
              "    }\n",
              "\n",
              "    .dataframe thead th {\n",
              "        text-align: right;\n",
              "    }\n",
              "</style>\n",
              "<table border=\"1\" class=\"dataframe\">\n",
              "  <thead>\n",
              "    <tr style=\"text-align: right;\">\n",
              "      <th></th>\n",
              "      <th>instance</th>\n",
              "      <th>cpu_usage_percent</th>\n",
              "    </tr>\n",
              "  </thead>\n",
              "  <tbody>\n",
              "    <tr>\n",
              "      <th>0</th>\n",
              "      <td>10.0.1.6:9100</td>\n",
              "      <td>0.840351</td>\n",
              "    </tr>\n",
              "    <tr>\n",
              "      <th>1</th>\n",
              "      <td>10.0.1.8:9100</td>\n",
              "      <td>0.459649</td>\n",
              "    </tr>\n",
              "    <tr>\n",
              "      <th>2</th>\n",
              "      <td>10.0.1.7:9100</td>\n",
              "      <td>0.414035</td>\n",
              "    </tr>\n",
              "  </tbody>\n",
              "</table>\n",
              "</div>"
            ],
            "text/plain": [
              "        instance  cpu_usage_percent\n",
              "0  10.0.1.6:9100           0.840351\n",
              "1  10.0.1.8:9100           0.459649\n",
              "2  10.0.1.7:9100           0.414035"
            ]
          },
          "execution_count": 5,
          "metadata": {},
          "output_type": "execute_result"
        }
      ],
      "source": [
        "cpu_query = '100 - (avg by (instance)(rate(node_cpu_seconds_total{mode=\"idle\", job=\"node-exporter\"}[5m])) * 100)'\n",
        "cpu_df = promql_to_dataframe(run_promql(cpu_query))\n",
        "cpu_df[['instance', 'value']].rename(columns={'value': 'cpu_usage_percent'})\n"
      ]
    },
    {
      "cell_type": "markdown",
      "metadata": {},
      "source": [
        "## 예시 3: 메모리 사용률\n",
        "총 메모리 대비 사용 중인 메모리를 계산합니다."
      ]
    },
    {
      "cell_type": "code",
      "execution_count": 8,
      "metadata": {},
      "outputs": [
        {
          "data": {
            "text/html": [
              "<div>\n",
              "<style scoped>\n",
              "    .dataframe tbody tr th:only-of-type {\n",
              "        vertical-align: middle;\n",
              "    }\n",
              "\n",
              "    .dataframe tbody tr th {\n",
              "        vertical-align: top;\n",
              "    }\n",
              "\n",
              "    .dataframe thead th {\n",
              "        text-align: right;\n",
              "    }\n",
              "</style>\n",
              "<table border=\"1\" class=\"dataframe\">\n",
              "  <thead>\n",
              "    <tr style=\"text-align: right;\">\n",
              "      <th></th>\n",
              "      <th>instance</th>\n",
              "      <th>memory_usage_percent</th>\n",
              "    </tr>\n",
              "  </thead>\n",
              "  <tbody>\n",
              "    <tr>\n",
              "      <th>0</th>\n",
              "      <td>10.0.1.6:9100</td>\n",
              "      <td>62.312350</td>\n",
              "    </tr>\n",
              "    <tr>\n",
              "      <th>1</th>\n",
              "      <td>10.0.1.8:9100</td>\n",
              "      <td>46.787572</td>\n",
              "    </tr>\n",
              "    <tr>\n",
              "      <th>2</th>\n",
              "      <td>10.0.1.7:9100</td>\n",
              "      <td>46.070978</td>\n",
              "    </tr>\n",
              "  </tbody>\n",
              "</table>\n",
              "</div>"
            ],
            "text/plain": [
              "        instance  memory_usage_percent\n",
              "0  10.0.1.6:9100             62.312350\n",
              "1  10.0.1.8:9100             46.787572\n",
              "2  10.0.1.7:9100             46.070978"
            ]
          },
          "execution_count": 8,
          "metadata": {},
          "output_type": "execute_result"
        }
      ],
      "source": [
        "mem_query = '(1 - node_memory_MemAvailable_bytes{job=\"node-exporter\"} / node_memory_MemTotal_bytes{job=\"node-exporter\"}) * 100'\n",
        "mem_df = promql_to_dataframe(run_promql(mem_query))\n",
        "mem_df[['instance', 'value']].rename(columns={'value': 'memory_usage_percent'})\n"
      ]
    }
  ],
  "metadata": {
    "kernelspec": {
      "display_name": "Python 3",
      "language": "python",
      "name": "python3"
    },
    "language_info": {
      "codemirror_mode": {
        "name": "ipython",
        "version": 3
      },
      "file_extension": ".py",
      "mimetype": "text/x-python",
      "name": "python",
      "nbconvert_exporter": "python",
      "pygments_lexer": "ipython3",
      "version": "3.10.12"
    }
  },
  "nbformat": 4,
  "nbformat_minor": 5
}
