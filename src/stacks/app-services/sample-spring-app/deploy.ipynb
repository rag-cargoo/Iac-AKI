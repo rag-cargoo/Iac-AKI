{
 "cells": [
  {
   "cell_type": "markdown",
   "metadata": {},
   "source": [
    "# Deploy Sample Spring Boot App on Docker Swarm\n"
   ]
  },
  {
   "cell_type": "markdown",
   "metadata": {},
   "source": [
    "### 사전 준비\n- 로컬 터미널에서 `source run/common/setup_env.sh` 실행\n- 이어서 `docker context use swarm-manager` 로 Docker 명령이 원격 Swarm으로 전달되도록 설정\n- 애플리케이션 접근을 위해 필요 시 `ssh -N -L 9000:localhost:9000 swarm-manager` 와 같이 포트 포워딩 수행\n- 아래 셀은 모두 Bash 실행(`%%bash`)이며 같은 환경 변수를 반복 설정합니다.\n"
   ]
  },
  {
   "cell_type": "markdown",
   "metadata": {},
   "source": [
    "### 1. Overlay 네트워크 준비\n",
    "이미 존재하면 에러 없이 넘어갑니다."
   ]
  },
  {
   "cell_type": "code",
   "execution_count": null,
   "metadata": {
    "tags": [
     "bash"
    ]
   },
   "outputs": [],
   "source": [
    "%%bash\n",
    "docker context use swarm-manager >/dev/null 2>&1\n",
    "docker network create --driver overlay swarm_services 2>/dev/null || true\n"
   ]
  },
  {
   "cell_type": "markdown",
   "metadata": {},
   "source": [
    "### 2. 스택 배포\n"
   ]
  },
  {
   "cell_type": "code",
   "execution_count": null,
   "metadata": {
    "tags": [
     "bash"
    ]
   },
   "outputs": [],
   "source": [
    "%%bash\n",
    "docker context use swarm-manager >/dev/null 2>&1\n",
    "STACK_FILE=src/stacks/app-services/sample-spring-app/stack.yml\n",
    "docker stack deploy -c ${STACK_FILE} sample_spring_app\n"
   ]
  },
  {
   "cell_type": "markdown",
   "metadata": {},
   "source": [
    "### 3. 상태 확인\n"
   ]
  },
  {
   "cell_type": "code",
   "execution_count": null,
   "metadata": {
    "tags": [
     "bash"
    ]
   },
   "outputs": [],
   "source": [
    "%%bash\n",
    "docker context use swarm-manager >/dev/null 2>&1\n",
    "docker service ls | grep sample_spring_app\n"
   ]
  },
  {
   "cell_type": "code",
   "execution_count": null,
   "metadata": {
    "tags": [
     "bash"
    ]
   },
   "outputs": [],
   "source": [
    "%%bash\n",
    "docker context use swarm-manager >/dev/null 2>&1\n",
    "docker service ps sample_spring_app_spring_app\n"
   ]
  },
  {
   "cell_type": "markdown",
   "metadata": {},
   "source": [
    "### 4. 기타 명령\n",
    "- 로그 확인: `docker service logs -f sample_spring_app_spring_app`\n",
    "- 스택 제거: `docker stack rm sample_spring_app`\n",
    "- 애플리케이션 접속: http://<bastion-public-ip>:9000 (포트 포워딩 시 로컬 9000)\n"
   ]
  }
 ],
 "metadata": {
  "kernelspec": {
   "display_name": "Bash",
   "language": "bash",
   "name": "bash"
  },
  "language_info": {
   "name": "bash"
  }
 },
 "nbformat": 4,
 "nbformat_minor": 5
}